{
  "nbformat": 4,
  "nbformat_minor": 0,
  "metadata": {
    "colab": {
      "name": "Untitled2.ipynb",
      "provenance": [],
      "include_colab_link": true
    },
    "kernelspec": {
      "name": "python3",
      "display_name": "Python 3"
    }
  },
  "cells": [
    {
      "cell_type": "markdown",
      "metadata": {
        "id": "view-in-github",
        "colab_type": "text"
      },
      "source": [
        "<a href=\"https://colab.research.google.com/github/are1224/project/blob/master/Ai_Work01.ipynb\" target=\"_parent\"><img src=\"https://colab.research.google.com/assets/colab-badge.svg\" alt=\"Open In Colab\"/></a>"
      ]
    },
    {
      "cell_type": "code",
      "metadata": {
        "id": "SvVqLvoomczW",
        "colab_type": "code",
        "colab": {}
      },
      "source": [
        ""
      ],
      "execution_count": 0,
      "outputs": []
    },
    {
      "cell_type": "markdown",
      "metadata": {
        "id": "GCTVLSKKmdXd",
        "colab_type": "text"
      },
      "source": [
        "# **# 인공지능 기술이 적용된 서비스 및 제품**\n",
        "\n",
        "언어 :  \n",
        "- 구글의 구글 번역, 네이버의 파파고, 카카오의 카카오 I 번역 등은 모두 신경망 기계번역 기술이 적용된 번역서비스들입니다.\n",
        "\n",
        "음성 :  \n",
        "- 아마존에서 개발한 인공지능 플랫폼인 알렉사(Alexa)와 함께 아마존 에코(Amazon echo)라는 스마트 스피커를 출시되어 있습니다. 아마존 에코를 사용하면 알렉사와 의사소통을 할 수 있으며 음악재생, 알람설정, 날씨정보 제공 등 많은 기능들을 사용할 수 있습니다.\n",
        "- 중국에서 구글과 동등한 기업인 바이두(Baidu)는 인공지능을 여러 가지 방법으로 사용합니다. 인공지능과 딥 러닝 기술을 적용한 음성 모방 솔루션 ‘딥 보이스 (Deep Voice)’는 3.7초의 음성 데이터만 있으면 음성을 복제하는 것이  가능합니다. 또한 동일한 기술을 사용하여 별도의 녹음없이 자동화하여 저자의 목소리로 책을 읽어주는 도구를 개발해내었습니다.\n",
        "\n",
        "이미지 : \n",
        "- 구글은 사진 저장 클라우드 서비스 '구글포토' 사진 분류 기능에 AI를 적용했습니다. 또한 구글렌즈에 AI와 AR(증강현실) 기능을 적용해 카메라를 물체에 갖다 대면 이를 식별하게 했습니다. 시각 모델과 번역 기술을 통해 표지판의 글자를 인식하거나 명소를 인식할 수 있습니다. 사진 촬영으로 제품의 이름, 가격, 구입처도 확인할 수 있습니다.\n",
        "\n",
        "자율주행 : \n",
        "- 미국 Alphabet (Google 모기업)의 자회사인 Waymo가 2018년 12월 5일에 세계 최초로 요금을 받는 자율주행차 택시 서비스를 시작했습니다.\n",
        "서비스 이름을 Waymo One이라고 하고, 아리조나 주 피닉스 (Phoenix)시 근교에 있는 Chandler, Tempe, Mesa, Gilbert 등 4개 도시 대상입니다. 2016년부터 시험 주행을 했고, 그 시험 주행에 참여한 사람들 중 일부를 고객으로 초청하여 요금제 택시 서비스를 시작한 것입니다. 자율주행차이지만, 사람 운전자가 운전석에 앉아서 위기 상황에 대비하고 있습니다.\n",
        "- 미국 아리조나 주 소재 supermarket chain인 Fry’s Food Store가 2018년 12월에 Scottsdale시에서 최초로 자율주행차로 식료품 배달 서비스를 시작했습니다. 온라인이나 모바일 앱으로 주문한 식료품을 배달합니다. Fry’s Food Store는 미국 최대 supermarket chain인 Kroger 소유입니다.\n",
        "- Walmart는 Udelv, Ford, Waymo의 자율주행차를 이용하여 아리조나 Chandler에서 시험하고 있습니다.\n",
        "- Amazon에서도 Amazon Scout라는 이름의 배달용 자율주행차를 자체적으로 만들어 워싱턴주 스노호미쉬 군 (Snohomish County)에서 시험 운영을 시작했습니다."
      ]
    }
  ]
}